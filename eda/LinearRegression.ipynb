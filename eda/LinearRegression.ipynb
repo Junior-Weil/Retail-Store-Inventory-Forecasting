{
 "cells": [
  {
   "cell_type": "code",
   "execution_count": 6,
   "id": "56c9464b",
   "metadata": {},
   "outputs": [],
   "source": [
    "import numpy as np\n",
    "import matplotlib.pyplot as plt\n",
    "import os\n",
    "from dotenv import load_dotenv\n",
    "import pandas as pd\n",
    "from pandas.api.types import is_integer_dtype, is_float_dtype\n",
    "\n",
    "load_dotenv()\n",
    "os.chdir(os.getenv('BASE_PATH'))\n"
   ]
  },
  {
   "cell_type": "code",
   "execution_count": 7,
   "id": "2d27889f",
   "metadata": {},
   "outputs": [],
   "source": [
    "df = pd.read_csv('data/raw/retail_store_inventory.csv')\n",
    "df.drop(columns=['Date', 'Store ID', 'Product ID'], axis=1, inplace=True)"
   ]
  },
  {
   "cell_type": "code",
   "execution_count": 8,
   "id": "4c21752f",
   "metadata": {},
   "outputs": [],
   "source": [
    "df = df.rename(columns={'Inventory Level': 'Inventory',\n",
    "                        'Units Sold': 'Sales',\n",
    "                        'Units Ordered': 'Orders',\n",
    "                        'Demand Forecast': 'Demand',\n",
    "                        'Weather Condition': 'Weather',\n",
    "                        'Holiday/Promotion': 'Promotion',\n",
    "                        'Competitor Pricing': 'Competitor Price'})"
   ]
  },
  {
   "cell_type": "code",
   "execution_count": 9,
   "id": "37c766e0",
   "metadata": {},
   "outputs": [
    {
     "name": "stdout",
     "output_type": "stream",
     "text": [
      "<class 'pandas.core.frame.DataFrame'>\n",
      "RangeIndex: 73100 entries, 0 to 73099\n",
      "Data columns (total 12 columns):\n",
      " #   Column            Non-Null Count  Dtype  \n",
      "---  ------            --------------  -----  \n",
      " 0   Category          73100 non-null  object \n",
      " 1   Region            73100 non-null  object \n",
      " 2   Inventory         73100 non-null  int64  \n",
      " 3   Sales             73100 non-null  int64  \n",
      " 4   Orders            73100 non-null  int64  \n",
      " 5   Demand            73100 non-null  float64\n",
      " 6   Price             73100 non-null  float64\n",
      " 7   Discount          73100 non-null  int64  \n",
      " 8   Weather           73100 non-null  object \n",
      " 9   Promotion         73100 non-null  int64  \n",
      " 10  Competitor Price  73100 non-null  float64\n",
      " 11  Seasonality       73100 non-null  object \n",
      "dtypes: float64(3), int64(5), object(4)\n",
      "memory usage: 6.7+ MB\n"
     ]
    }
   ],
   "source": [
    "df.info()"
   ]
  },
  {
   "cell_type": "code",
   "execution_count": null,
   "id": "d82bad72",
   "metadata": {},
   "outputs": [
    {
     "name": "stdout",
     "output_type": "stream",
     "text": [
      "Memory: 22.03 MB → 18.89 MB (14.2% reduction)\n",
      "<class 'pandas.core.frame.DataFrame'>\n",
      "RangeIndex: 73100 entries, 0 to 73099\n",
      "Data columns (total 12 columns):\n",
      " #   Column            Non-Null Count  Dtype  \n",
      "---  ------            --------------  -----  \n",
      " 0   Category          73100 non-null  object \n",
      " 1   Region            73100 non-null  object \n",
      " 2   Inventory         73100 non-null  uint16 \n",
      " 3   Sales             73100 non-null  uint16 \n",
      " 4   Orders            73100 non-null  uint8  \n",
      " 5   Demand            73100 non-null  float32\n",
      " 6   Price             73100 non-null  float32\n",
      " 7   Discount          73100 non-null  uint8  \n",
      " 8   Weather           73100 non-null  object \n",
      " 9   Promotion         73100 non-null  uint8  \n",
      " 10  Competitor Price  73100 non-null  float32\n",
      " 11  Seasonality       73100 non-null  object \n",
      "dtypes: float32(3), object(4), uint16(2), uint8(3)\n",
      "memory usage: 3.6+ MB\n"
     ]
    }
   ],
   "source": [
    "def downcast_ints(df: pd.DataFrame) -> pd.DataFrame:\n",
    "    df = df.copy()\n",
    "    int_cols = [c for c in df.columns if is_integer_dtype(df[c])]\n",
    "    for c in int_cols:\n",
    "        s = df[c]\n",
    "        if s.min() >= 0:\n",
    "            df[c] = pd.to_numeric(s, downcast=\"unsigned\")  # -> uint8/16/32/64\n",
    "        else:\n",
    "            df[c] = pd.to_numeric(s, downcast=\"integer\")   # -> int8/16/32/64\n",
    "    return df\n",
    "\n",
    "def optimize_df(df: pd.DataFrame) -> pd.DataFrame:\n",
    "    start = df.memory_usage(deep=True).sum()\n",
    "    out = df.copy()\n",
    "\n",
    "    # 1) Downcast integers\n",
    "    out = downcast_ints(out)\n",
    "\n",
    "    # 2) Downcast floats\n",
    "    float_cols = [c for c in out.columns if is_float_dtype(out[c])]\n",
    "    out[float_cols] = out[float_cols].apply(pd.to_numeric, downcast=\"float\")  # -> float32\n",
    "\n",
    "    end = out.memory_usage(deep=True).sum()\n",
    "    print(f\"Memory: {start/1024**2:.2f} MB → {end/1024**2:.2f} MB \"\n",
    "          f\"({(1 - end/start)*100:.1f}% reduction)\")\n",
    "    return out\n",
    "\n",
    "df_opt = optimize_df(df)\n",
    "df_opt.info()\n"
   ]
  },
  {
   "cell_type": "code",
   "execution_count": null,
   "id": "4a1f6ecf",
   "metadata": {},
   "outputs": [
    {
     "name": "stdout",
     "output_type": "stream",
     "text": [
      "<class 'pandas.core.frame.DataFrame'>\n",
      "RangeIndex: 73100 entries, 0 to 73099\n",
      "Data columns (total 12 columns):\n",
      " #   Column            Non-Null Count  Dtype  \n",
      "---  ------            --------------  -----  \n",
      " 0   Category          73100 non-null  object \n",
      " 1   Region            73100 non-null  object \n",
      " 2   Inventory         73100 non-null  int64  \n",
      " 3   Sales             73100 non-null  int64  \n",
      " 4   Orders            73100 non-null  int64  \n",
      " 5   Demand            73100 non-null  float32\n",
      " 6   Price             73100 non-null  float32\n",
      " 7   Discount          73100 non-null  int64  \n",
      " 8   Weather           73100 non-null  object \n",
      " 9   Promotion         73100 non-null  int64  \n",
      " 10  Competitor Price  73100 non-null  float32\n",
      " 11  Seasonality       73100 non-null  object \n",
      "dtypes: float32(3), int64(5), object(4)\n",
      "memory usage: 5.9+ MB\n"
     ]
    }
   ],
   "source": [
    "df.info()"
   ]
  },
  {
   "cell_type": "code",
   "execution_count": null,
   "id": "70a998a7",
   "metadata": {},
   "outputs": [],
   "source": []
  },
  {
   "cell_type": "code",
   "execution_count": null,
   "id": "1d32e076",
   "metadata": {},
   "outputs": [],
   "source": []
  }
 ],
 "metadata": {
  "kernelspec": {
   "display_name": "retail_env",
   "language": "python",
   "name": "python3"
  },
  "language_info": {
   "codemirror_mode": {
    "name": "ipython",
    "version": 3
   },
   "file_extension": ".py",
   "mimetype": "text/x-python",
   "name": "python",
   "nbconvert_exporter": "python",
   "pygments_lexer": "ipython3",
   "version": "3.10.18"
  }
 },
 "nbformat": 4,
 "nbformat_minor": 5
}
