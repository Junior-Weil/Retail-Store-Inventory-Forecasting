{
 "cells": [
  {
   "cell_type": "code",
   "execution_count": 1,
   "id": "56c9464b",
   "metadata": {},
   "outputs": [],
   "source": [
    "import numpy as np\n",
    "import matplotlib.pyplot as plt\n",
    "import os\n",
    "from dotenv import load_dotenv\n",
    "import pandas as pd\n",
    "from pandas.api.types import is_integer_dtype, is_float_dtype\n",
    "\n",
    "load_dotenv()\n",
    "os.chdir(os.getenv('BASE_PATH'))\n"
   ]
  },
  {
   "cell_type": "code",
   "execution_count": 2,
   "id": "2d27889f",
   "metadata": {},
   "outputs": [],
   "source": [
    "df = pd.read_csv('data/raw/retail_store_inventory.csv')\n",
    "df.drop(columns=['Date', 'Store ID', 'Product ID'], axis=1, inplace=True)"
   ]
  },
  {
   "cell_type": "code",
   "execution_count": 3,
   "id": "4c21752f",
   "metadata": {},
   "outputs": [],
   "source": [
    "df = df.rename(columns={'Inventory Level': 'Inventory',\n",
    "                        'Units Sold': 'Sales',\n",
    "                        'Units Ordered': 'Orders',\n",
    "                        'Demand Forecast': 'Demand',\n",
    "                        'Weather Condition': 'Weather',\n",
    "                        'Holiday/Promotion': 'Promotion',\n",
    "                        'Competitor Pricing': 'Competitor Price'})"
   ]
  },
  {
   "cell_type": "code",
   "execution_count": 4,
   "id": "37c766e0",
   "metadata": {},
   "outputs": [
    {
     "name": "stdout",
     "output_type": "stream",
     "text": [
      "<class 'pandas.core.frame.DataFrame'>\n",
      "RangeIndex: 73100 entries, 0 to 73099\n",
      "Data columns (total 12 columns):\n",
      " #   Column            Non-Null Count  Dtype  \n",
      "---  ------            --------------  -----  \n",
      " 0   Category          73100 non-null  object \n",
      " 1   Region            73100 non-null  object \n",
      " 2   Inventory         73100 non-null  int64  \n",
      " 3   Sales             73100 non-null  int64  \n",
      " 4   Orders            73100 non-null  int64  \n",
      " 5   Demand            73100 non-null  float64\n",
      " 6   Price             73100 non-null  float64\n",
      " 7   Discount          73100 non-null  int64  \n",
      " 8   Weather           73100 non-null  object \n",
      " 9   Promotion         73100 non-null  int64  \n",
      " 10  Competitor Price  73100 non-null  float64\n",
      " 11  Seasonality       73100 non-null  object \n",
      "dtypes: float64(3), int64(5), object(4)\n",
      "memory usage: 6.7+ MB\n"
     ]
    }
   ],
   "source": [
    "df.info()"
   ]
  },
  {
   "cell_type": "code",
   "execution_count": 5,
   "id": "d82bad72",
   "metadata": {},
   "outputs": [
    {
     "name": "stdout",
     "output_type": "stream",
     "text": [
      "Memory: 22.03 MB → 18.89 MB (14.2% reduction)\n",
      "<class 'pandas.core.frame.DataFrame'>\n",
      "RangeIndex: 73100 entries, 0 to 73099\n",
      "Data columns (total 12 columns):\n",
      " #   Column            Non-Null Count  Dtype  \n",
      "---  ------            --------------  -----  \n",
      " 0   Category          73100 non-null  object \n",
      " 1   Region            73100 non-null  object \n",
      " 2   Inventory         73100 non-null  uint16 \n",
      " 3   Sales             73100 non-null  uint16 \n",
      " 4   Orders            73100 non-null  uint8  \n",
      " 5   Demand            73100 non-null  float32\n",
      " 6   Price             73100 non-null  float32\n",
      " 7   Discount          73100 non-null  uint8  \n",
      " 8   Weather           73100 non-null  object \n",
      " 9   Promotion         73100 non-null  uint8  \n",
      " 10  Competitor Price  73100 non-null  float32\n",
      " 11  Seasonality       73100 non-null  object \n",
      "dtypes: float32(3), object(4), uint16(2), uint8(3)\n",
      "memory usage: 3.6+ MB\n"
     ]
    }
   ],
   "source": [
    "def downcast_ints(df: pd.DataFrame) -> pd.DataFrame:\n",
    "    df = df.copy()\n",
    "    int_cols = [c for c in df.columns if is_integer_dtype(df[c])]\n",
    "    for c in int_cols:\n",
    "        s = df[c]\n",
    "        if s.min() >= 0:\n",
    "            df[c] = pd.to_numeric(s, downcast=\"unsigned\")  # -> uint8/16/32/64\n",
    "        else:\n",
    "            df[c] = pd.to_numeric(s, downcast=\"integer\")   # -> int8/16/32/64\n",
    "    return df\n",
    "\n",
    "def optimize_df(df: pd.DataFrame) -> pd.DataFrame:\n",
    "    start = df.memory_usage(deep=True).sum()\n",
    "    out = df.copy()\n",
    "\n",
    "    # 1) Downcast integers\n",
    "    out = downcast_ints(out)\n",
    "\n",
    "    # 2) Downcast floats\n",
    "    float_cols = [c for c in out.columns if is_float_dtype(out[c])]\n",
    "    out[float_cols] = out[float_cols].apply(pd.to_numeric, downcast=\"float\")  # -> float32\n",
    "\n",
    "    end = out.memory_usage(deep=True).sum()\n",
    "    print(f\"Memory: {start/1024**2:.2f} MB → {end/1024**2:.2f} MB \"\n",
    "          f\"({(1 - end/start)*100:.1f}% reduction)\")\n",
    "    return out\n",
    "\n",
    "df = optimize_df(df)\n",
    "df.info()\n"
   ]
  },
  {
   "cell_type": "code",
   "execution_count": 6,
   "id": "8c776a34",
   "metadata": {},
   "outputs": [],
   "source": [
    "x = df.drop(columns=['Demand'])\n",
    "y = df['Demand']"
   ]
  },
  {
   "cell_type": "code",
   "execution_count": 7,
   "id": "1efdf6e6",
   "metadata": {},
   "outputs": [],
   "source": [
    "from sklearn.preprocessing import LabelEncoder\n",
    "\n",
    "label_encoder = LabelEncoder()\n",
    "x['Category'] = label_encoder.fit_transform(x['Category'])\n",
    "x['Region'] = label_encoder.fit_transform(x['Region'])\n",
    "x['Weather'] = label_encoder.fit_transform(x['Weather'])\n",
    "x['Seasonality'] = label_encoder.fit_transform(x['Seasonality'])\n",
    "x['Promotion'] = label_encoder.fit_transform(x['Promotion'])"
   ]
  },
  {
   "cell_type": "code",
   "execution_count": 8,
   "id": "c4f31579",
   "metadata": {},
   "outputs": [],
   "source": [
    "from sklearn.preprocessing import StandardScaler\n",
    "\n",
    "scaler = StandardScaler()\n",
    "x = scaler.fit_transform(x)"
   ]
  },
  {
   "cell_type": "code",
   "execution_count": 9,
   "id": "4a1f6ecf",
   "metadata": {},
   "outputs": [],
   "source": [
    "from sklearn.model_selection import train_test_split\n",
    "\n",
    "x_train, x_test, y_train, y_test = train_test_split(x, y, test_size=0.2)"
   ]
  },
  {
   "cell_type": "code",
   "execution_count": 10,
   "id": "e6c4c093",
   "metadata": {},
   "outputs": [],
   "source": [
    "class HParamMetrics:\n",
    "\n",
    "  def __init__(self, est):\n",
    "    self.est = est\n",
    "    self.train_rn = None\n",
    "    self.y_pred = None\n",
    "    self.test_r2 = None\n",
    "    self.mse = None\n",
    "    self.rmse = None\n",
    "    self.mae = None"
   ]
  },
  {
   "cell_type": "code",
   "execution_count": 11,
   "id": "70a998a7",
   "metadata": {},
   "outputs": [],
   "source": [
    "from tabulate import tabulate\n",
    "from sklearn.metrics import r2_score, mean_squared_error, mean_absolute_error\n",
    "\n",
    "def evaluate_model(model, x_train, y_train, x_test, y_test, HPM):\n",
    "  # calculate metrics\n",
    "  HPM.train_r2 = model.score(x_train, y_train)\n",
    "  HPM.y_pred = model.predict(x_test)\n",
    "  HPM.test_r2 = r2_score(y_test, HPM.y_pred)\n",
    "  HPM.mse = mean_squared_error(y_test, HPM.y_pred)\n",
    "  HPM.rmse = np.sqrt(HPM.mse)\n",
    "  HPM.mae = mean_absolute_error(y_test, HPM.y_pred)\n",
    "\n",
    "  #prepare the table data\n",
    "  metrics = [\n",
    "    [\"Training R^2 Score\", f\"{HPM.train_r2:.4f}\"],\n",
    "    [\"Testing R^2 Score\", f\"{HPM.test_r2:.4f}\"],\n",
    "    [\"Mean Squared Error (MSE)\", f\"{HPM.mse:.2f}\"],\n",
    "    [\"Root Mean Squared Error (RMSE)\", f\"{HPM.rmse:.2f}\"],\n",
    "    [\"Mean Absolute Error (MAE)\", f\"{HPM.mae:.2f}\"],\n",
    "  ]\n",
    "\n",
    "  # Print the table\n",
    "  print(tabulate(metrics, headers=[\"Metric\", \"Value\"], tablefmt=\"grid\"))"
   ]
  },
  {
   "cell_type": "code",
   "execution_count": 12,
   "id": "1d32e076",
   "metadata": {},
   "outputs": [],
   "source": [
    "from sklearn.linear_model import LinearRegression\n",
    "\n",
    "lr = LinearRegression()\n",
    "\n",
    "initial_HPM = HParamMetrics(lr.fit(x_train, y_train))"
   ]
  },
  {
   "cell_type": "code",
   "execution_count": 13,
   "id": "b70b9fb5",
   "metadata": {},
   "outputs": [
    {
     "name": "stdout",
     "output_type": "stream",
     "text": [
      "+--------------------------------+---------+\n",
      "| Metric                         |   Value |\n",
      "+================================+=========+\n",
      "| Training R^2 Score             |  0.9937 |\n",
      "+--------------------------------+---------+\n",
      "| Testing R^2 Score              |  0.9938 |\n",
      "+--------------------------------+---------+\n",
      "| Mean Squared Error (MSE)       | 75.77   |\n",
      "+--------------------------------+---------+\n",
      "| Root Mean Squared Error (RMSE) |  8.7    |\n",
      "+--------------------------------+---------+\n",
      "| Mean Absolute Error (MAE)      |  7.56   |\n",
      "+--------------------------------+---------+\n"
     ]
    }
   ],
   "source": [
    "evaluate_model(lr, x_train, y_train, x_test, y_test, initial_HPM)"
   ]
  },
  {
   "cell_type": "code",
   "execution_count": null,
   "id": "5204b2b0",
   "metadata": {},
   "outputs": [
    {
     "name": "stdout",
     "output_type": "stream",
     "text": [
      "<bound method RegressorMixin.score of LinearRegression()>\n"
     ]
    }
   ],
   "source": [
    "print(initial_HPM.est)"
   ]
  },
  {
   "cell_type": "code",
   "execution_count": null,
   "id": "b6fb57de",
   "metadata": {},
   "outputs": [],
   "source": []
  }
 ],
 "metadata": {
  "kernelspec": {
   "display_name": "retail_env",
   "language": "python",
   "name": "python3"
  },
  "language_info": {
   "codemirror_mode": {
    "name": "ipython",
    "version": 3
   },
   "file_extension": ".py",
   "mimetype": "text/x-python",
   "name": "python",
   "nbconvert_exporter": "python",
   "pygments_lexer": "ipython3",
   "version": "3.10.18"
  }
 },
 "nbformat": 4,
 "nbformat_minor": 5
}
