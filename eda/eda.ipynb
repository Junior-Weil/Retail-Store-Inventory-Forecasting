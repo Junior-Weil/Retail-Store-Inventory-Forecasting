{
 "cells": [
  {
   "cell_type": "code",
   "execution_count": 1,
   "id": "247e6504",
   "metadata": {},
   "outputs": [],
   "source": [
    "import numpy as np\n",
    "import matplotlib.pyplot as plt\n",
    "import os\n",
    "from dotenv import load_dotenv\n",
    "import pandas as pd\n",
    "import seaborn as sns\n",
    "import plotly.express as px\n",
    "import plotly.graph_objects as go\n",
    "from plotly.subplots import make_subplots\n",
    "import plotly.io as pio\n",
    "pio.renderers.default = \"iframe\"\n",
    "pio.renderers.default = \"notebook_connected\"\n",
    "import warnings\n",
    "warnings.filterwarnings('ignore')"
   ]
  },
  {
   "cell_type": "code",
   "execution_count": 7,
   "id": "bfe867f4",
   "metadata": {},
   "outputs": [],
   "source": [
    "load_dotenv()\n",
    "os.chdir(os.getenv('BASE_PATH'))\n",
    "df = pd.read_csv('data/raw/retail_store_inventory.csv')"
   ]
  },
  {
   "cell_type": "code",
   "execution_count": 10,
   "id": "4ef73eb6",
   "metadata": {},
   "outputs": [
    {
     "name": "stdout",
     "output_type": "stream",
     "text": [
      "         Date Store ID Product ID     Category Region  Inventory Level  \\\n",
      "0  2022-01-01     S001      P0001    Groceries  North              231   \n",
      "1  2022-01-01     S001      P0002         Toys  South              204   \n",
      "2  2022-01-01     S001      P0003         Toys   West              102   \n",
      "3  2022-01-01     S001      P0004         Toys  North              469   \n",
      "4  2022-01-01     S001      P0005  Electronics   East              166   \n",
      "\n",
      "   Units Sold  Units Ordered  Demand Forecast  Price  Discount  \\\n",
      "0         127             55           135.47  33.50        20   \n",
      "1         150             66           144.04  63.01        20   \n",
      "2          65             51            74.02  27.99        10   \n",
      "3          61            164            62.18  32.72        10   \n",
      "4          14            135             9.26  73.64         0   \n",
      "\n",
      "  Weather Condition  Holiday/Promotion  Competitor Pricing Seasonality  \n",
      "0             Rainy                  0               29.69      Autumn  \n",
      "1             Sunny                  0               66.16      Autumn  \n",
      "2             Sunny                  1               31.32      Summer  \n",
      "3            Cloudy                  1               34.74      Autumn  \n",
      "4             Sunny                  0               68.95      Summer  \n"
     ]
    }
   ],
   "source": [
    "print(df.head())"
   ]
  },
  {
   "cell_type": "code",
   "execution_count": 15,
   "id": "b73c1c9e",
   "metadata": {},
   "outputs": [
    {
     "name": "stdout",
     "output_type": "stream",
     "text": [
      "<class 'pandas.core.frame.DataFrame'>\n",
      "RangeIndex: 73100 entries, 0 to 73099\n",
      "Data columns (total 15 columns):\n",
      " #   Column              Non-Null Count  Dtype  \n",
      "---  ------              --------------  -----  \n",
      " 0   Date                73100 non-null  object \n",
      " 1   Store ID            73100 non-null  object \n",
      " 2   Product ID          73100 non-null  object \n",
      " 3   Category            73100 non-null  object \n",
      " 4   Region              73100 non-null  object \n",
      " 5   Inventory Level     73100 non-null  int64  \n",
      " 6   Units Sold          73100 non-null  int64  \n",
      " 7   Units Ordered       73100 non-null  int64  \n",
      " 8   Demand Forecast     73100 non-null  float64\n",
      " 9   Price               73100 non-null  float64\n",
      " 10  Discount            73100 non-null  int64  \n",
      " 11  Weather Condition   73100 non-null  object \n",
      " 12  Holiday/Promotion   73100 non-null  int64  \n",
      " 13  Competitor Pricing  73100 non-null  float64\n",
      " 14  Seasonality         73100 non-null  object \n",
      "dtypes: float64(3), int64(5), object(7)\n",
      "memory usage: 8.4+ MB\n"
     ]
    }
   ],
   "source": [
    "df.info()"
   ]
  },
  {
   "cell_type": "code",
   "execution_count": 17,
   "id": "3ce40408",
   "metadata": {},
   "outputs": [
    {
     "data": {
      "application/vnd.microsoft.datawrangler.viewer.v0+json": {
       "columns": [
        {
         "name": "index",
         "rawType": "object",
         "type": "string"
        },
        {
         "name": "0",
         "rawType": "int64",
         "type": "integer"
        }
       ],
       "ref": "5a6fdd1f-3b90-483d-a54f-40aa1e63e86c",
       "rows": [
        [
         "Date",
         "0"
        ],
        [
         "Store ID",
         "0"
        ],
        [
         "Product ID",
         "0"
        ],
        [
         "Category",
         "0"
        ],
        [
         "Region",
         "0"
        ],
        [
         "Inventory Level",
         "0"
        ],
        [
         "Units Sold",
         "0"
        ],
        [
         "Units Ordered",
         "0"
        ],
        [
         "Demand Forecast",
         "0"
        ],
        [
         "Price",
         "0"
        ],
        [
         "Discount",
         "0"
        ],
        [
         "Weather Condition",
         "0"
        ],
        [
         "Holiday/Promotion",
         "0"
        ],
        [
         "Competitor Pricing",
         "0"
        ],
        [
         "Seasonality",
         "0"
        ]
       ],
       "shape": {
        "columns": 1,
        "rows": 15
       }
      },
      "text/plain": [
       "Date                  0\n",
       "Store ID              0\n",
       "Product ID            0\n",
       "Category              0\n",
       "Region                0\n",
       "Inventory Level       0\n",
       "Units Sold            0\n",
       "Units Ordered         0\n",
       "Demand Forecast       0\n",
       "Price                 0\n",
       "Discount              0\n",
       "Weather Condition     0\n",
       "Holiday/Promotion     0\n",
       "Competitor Pricing    0\n",
       "Seasonality           0\n",
       "dtype: int64"
      ]
     },
     "execution_count": 17,
     "metadata": {},
     "output_type": "execute_result"
    }
   ],
   "source": [
    "df.isna().sum()"
   ]
  },
  {
   "cell_type": "code",
   "execution_count": 19,
   "id": "0dfeca9b",
   "metadata": {},
   "outputs": [
    {
     "data": {
      "text/plain": [
       "0"
      ]
     },
     "execution_count": 19,
     "metadata": {},
     "output_type": "execute_result"
    }
   ],
   "source": [
    "df.duplicated().sum()"
   ]
  },
  {
   "cell_type": "code",
   "execution_count": 20,
   "id": "d095312d",
   "metadata": {},
   "outputs": [],
   "source": [
    "df.drop(columns=['Date', 'Store ID', 'Product ID'], axis=1, inplace=True)"
   ]
  },
  {
   "cell_type": "code",
   "execution_count": 21,
   "id": "aa58656c",
   "metadata": {},
   "outputs": [],
   "source": [
    "df = df.rename(columns={'Inventory Level': 'Inventory',\n",
    "                        'Units Sold': 'Sales',\n",
    "                        'Units Ordered': 'Orders',\n",
    "                        'Demand Forecast': 'Demand',\n",
    "                        'Weather Condition': 'Weather',\n",
    "                        'Holiday/Promotion': 'Promotion',\n",
    "                        'Competitor Pricing': 'Competitor Price'})"
   ]
  },
  {
   "cell_type": "code",
   "execution_count": null,
   "id": "920e8e9f",
   "metadata": {},
   "outputs": [],
   "source": [
    "# from numbers import Number\n",
    "\n",
    "# numeric_cols = []\n",
    "\n",
    "# for col in df.columns.to_list():\n",
    "#   if isinstance(df[col][0], Number):\n",
    "#     numeric_cols.append(col)\n",
    "\n",
    "numerical_cols = ['Inventory','Sales','Orders','Price','Discount','Competitor Price']\n",
    "\n",
    "for col in numerical_cols:\n",
    "  fig ="
   ]
  },
  {
   "cell_type": "code",
   "execution_count": 32,
   "id": "745fd48e",
   "metadata": {},
   "outputs": [
    {
     "name": "stdout",
     "output_type": "stream",
     "text": [
      "['Inventory', 'Sales', 'Orders', 'Demand', 'Price', 'Discount', 'Promotion', 'Competitor Price']\n"
     ]
    }
   ],
   "source": [
    "print(numeric_cols)"
   ]
  },
  {
   "cell_type": "code",
   "execution_count": null,
   "id": "6df51e7c",
   "metadata": {},
   "outputs": [
    {
     "name": "stdout",
     "output_type": "stream",
     "text": [
      "127\n"
     ]
    }
   ],
   "source": [
    "print(df['Sales'])"
   ]
  },
  {
   "cell_type": "code",
   "execution_count": null,
   "id": "06e8bb94",
   "metadata": {},
   "outputs": [],
   "source": []
  }
 ],
 "metadata": {
  "kernelspec": {
   "display_name": "retail_env",
   "language": "python",
   "name": "python3"
  },
  "language_info": {
   "codemirror_mode": {
    "name": "ipython",
    "version": 3
   },
   "file_extension": ".py",
   "mimetype": "text/x-python",
   "name": "python",
   "nbconvert_exporter": "python",
   "pygments_lexer": "ipython3",
   "version": "3.10.18"
  }
 },
 "nbformat": 4,
 "nbformat_minor": 5
}
